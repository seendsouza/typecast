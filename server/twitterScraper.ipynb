{
  "nbformat": 4,
  "nbformat_minor": 0,
  "metadata": {
    "colab": {
      "name": "twitterScraper",
      "provenance": [],
      "collapsed_sections": []
    },
    "kernelspec": {
      "name": "python3",
      "display_name": "Python 3"
    }
  },
  "cells": [
    {
      "cell_type": "code",
      "metadata": {
        "id": "LYSE8xgH-Pvc",
        "colab_type": "code",
        "colab": {}
      },
      "source": [
        "!pip install twitterscraper"
      ],
      "execution_count": 0,
      "outputs": []
    },
    {
      "cell_type": "code",
      "metadata": {
        "id": "yp2pgu3NNNjl",
        "colab_type": "code",
        "colab": {}
      },
      "source": [
        "!pip install vaderSentiment"
      ],
      "execution_count": 0,
      "outputs": []
    },
    {
      "cell_type": "code",
      "metadata": {
        "id": "MWnxNz3UKBYv",
        "colab_type": "code",
        "colab": {}
      },
      "source": [
        "!pip install gensim"
      ],
      "execution_count": 0,
      "outputs": []
    },
    {
      "cell_type": "code",
      "metadata": {
        "id": "sOU89IsMbYWs",
        "colab_type": "code",
        "colab": {}
      },
      "source": [
        "from gensim.summarization import keywords\n",
        "import sys\n",
        "import os\n",
        "import re\n",
        "\n",
        "from tqdm import tqdm\n",
        "import numpy as np\n",
        "import pandas as pd\n",
        "\n",
        "from twitterscraper import query_tweets\n",
        "import datetime as dt"
      ],
      "execution_count": 0,
      "outputs": []
    },
    {
      "cell_type": "code",
      "metadata": {
        "id": "JINB5BmgNTeR",
        "colab_type": "code",
        "colab": {}
      },
      "source": [
        "from vaderSentiment.vaderSentiment import SentimentIntensityAnalyzer\n",
        "analyzer = SentimentIntensityAnalyzer()"
      ],
      "execution_count": 0,
      "outputs": []
    },
    {
      "cell_type": "code",
      "metadata": {
        "id": "F0aAdRRENmRL",
        "colab_type": "code",
        "colab": {}
      },
      "source": [
        "def sentiment_analyzer_scores(sentence):\n",
        "  score = analyzer.polarity_scores(sentence)\n",
        "  return score"
      ],
      "execution_count": 0,
      "outputs": []
    },
    {
      "cell_type": "code",
      "metadata": {
        "id": "0uyirAkROxgE",
        "colab_type": "code",
        "colab": {}
      },
      "source": [
        "def typecast(keyword,time_start,time_end,negative,number_of_tweets):\n",
        "  # Scraping Tweets\n",
        "  tweets = query_tweets(keyword,begindate=time_start,enddate=time_end, limit=number_of_tweets, lang='english')\n",
        "\n",
        "  # Turning tweets into a Pandas DataFrame\n",
        "  df = pd.DataFrame(t.__dict__ for t in tweets)  \n",
        "\n",
        "  # Break dataframe into text and url's\n",
        "  tweet_content = df['text']\n",
        "  tweet_url = df['tweet_url']\n",
        "\n",
        "  # Sentiment Analysis\n",
        "  array_of_scores_for_tweets = []\n",
        "  for tweet in tweet_content:\n",
        "    midstep = sentiment_analyzer_scores(tweet)\n",
        "    score = midstep['compound']\n",
        "    array_of_scores_for_tweets.append(score)\n",
        "\n",
        "  final_list_for_scores = []\n",
        "  final_list_for_tweets = []\n",
        "  if (negative):\n",
        "    for i in range(len(array_of_scores_for_tweets)-1):\n",
        "      if (array_of_scores_for_tweets[i] < -0.2):\n",
        "        final_list_for_scores.append(array_of_scores_for_tweets[i])\n",
        "        final_list_for_tweets.append(tweet_content[i])\n",
        "  else:\n",
        "    final_list_for_scores = array_of_scores_for_tweets\n",
        "    final_list_for_tweets = tweet_content\n",
        "\n",
        "  #Keyword Analysis\n",
        "  keywords_of_tweets = []\n",
        "  keyword_of_indivdual_tweet = []\n",
        "  for tweet in final_list_for_tweets:\n",
        "    keywords_of_tweet = keywords(tweet).split()\n",
        "    keyword_of_indivdual_tweet.append(keywords_of_tweet)\n",
        "    for word in keywords_of_tweet:\n",
        "      keywords_of_tweets.append(word)\n",
        "\n",
        "  #TextRank\n",
        "  unique_list = dict.fromkeys(keywords_of_tweets)\n",
        "  for word in unique_list:\n",
        "    unique_list[word] = 0\n",
        "\n",
        "  for word in keywords_of_tweets:\n",
        "    unique_list[word] += 1\n",
        "  \n",
        "  return [tweet_url, tweet_content, keyword_of_indivdual_tweet, unique_list]"
      ],
      "execution_count": 0,
      "outputs": []
    },
    {
      "cell_type": "code",
      "metadata": {
        "id": "PMt0UvnfWvV4",
        "colab_type": "code",
        "outputId": "3882d31d-e4fd-4392-d196-fe8b1c8ce2c4",
        "colab": {
          "base_uri": "https://localhost:8080/",
          "height": 1000
        }
      },
      "source": [
        "begin_date = dt.date(2020,1,1)\n",
        "end_date = dt.date(2020,1,11)\n",
        "tweet_links, tweet_content, indivdual_tweet_keyword, keyword_analysis = 1,2,3,4\n",
        "unpack = typecast(keyword=\"askrbc\",time_start=begin_date,time_end=end_date,negative=False,number_of_tweets=1000)"
      ],
      "execution_count": 0,
      "outputs": [
        {
          "output_type": "stream",
          "text": [
            "INFO: queries: ['askrbc since:2020-01-01 until:2020-01-02', 'askrbc since:2020-01-02 until:2020-01-03', 'askrbc since:2020-01-03 until:2020-01-04', 'askrbc since:2020-01-04 until:2020-01-05', 'askrbc since:2020-01-05 until:2020-01-06', 'askrbc since:2020-01-06 until:2020-01-07', 'askrbc since:2020-01-07 until:2020-01-08', 'askrbc since:2020-01-08 until:2020-01-09', 'askrbc since:2020-01-09 until:2020-01-10', 'askrbc since:2020-01-10 until:2020-01-11']\n",
            "INFO: Querying askrbc since:2020-01-01 until:2020-01-02\n",
            "INFO: Scraping tweets from https://twitter.com/search?f=tweets&vertical=default&q=askrbc%20since%3A2020-01-01%20until%3A2020-01-02&l=english\n",
            "INFO: Using proxy 116.58.226.219:8080\n",
            "INFO: Querying askrbc since:2020-01-03 until:2020-01-04\n",
            "INFO: Querying askrbc since:2020-01-08 until:2020-01-09\n",
            "INFO: Querying askrbc since:2020-01-10 until:2020-01-11\n",
            "INFO: Querying askrbc since:2020-01-05 until:2020-01-06\n",
            "INFO: Querying askrbc since:2020-01-02 until:2020-01-03\n",
            "INFO: Scraping tweets from https://twitter.com/search?f=tweets&vertical=default&q=askrbc%20since%3A2020-01-03%20until%3A2020-01-04&l=english\n",
            "INFO: Querying askrbc since:2020-01-07 until:2020-01-08\n",
            "INFO: Querying askrbc since:2020-01-04 until:2020-01-05\n",
            "INFO: Querying askrbc since:2020-01-06 until:2020-01-07\n",
            "INFO: Scraping tweets from https://twitter.com/search?f=tweets&vertical=default&q=askrbc%20since%3A2020-01-02%20until%3A2020-01-03&l=english\n",
            "INFO: Querying askrbc since:2020-01-09 until:2020-01-10\n",
            "INFO: Scraping tweets from https://twitter.com/search?f=tweets&vertical=default&q=askrbc%20since%3A2020-01-10%20until%3A2020-01-11&l=english\n",
            "INFO: Scraping tweets from https://twitter.com/search?f=tweets&vertical=default&q=askrbc%20since%3A2020-01-09%20until%3A2020-01-10&l=english\n",
            "INFO: Scraping tweets from https://twitter.com/search?f=tweets&vertical=default&q=askrbc%20since%3A2020-01-06%20until%3A2020-01-07&l=english\n",
            "INFO: Scraping tweets from https://twitter.com/search?f=tweets&vertical=default&q=askrbc%20since%3A2020-01-04%20until%3A2020-01-05&l=english\n",
            "INFO: Scraping tweets from https://twitter.com/search?f=tweets&vertical=default&q=askrbc%20since%3A2020-01-05%20until%3A2020-01-06&l=english\n",
            "INFO: Using proxy 116.58.226.219:8080\n",
            "INFO: Scraping tweets from https://twitter.com/search?f=tweets&vertical=default&q=askrbc%20since%3A2020-01-08%20until%3A2020-01-09&l=english\n",
            "INFO: Scraping tweets from https://twitter.com/search?f=tweets&vertical=default&q=askrbc%20since%3A2020-01-07%20until%3A2020-01-08&l=english\n",
            "INFO: Using proxy 116.58.226.219:8080\n",
            "INFO: Using proxy 116.58.226.219:8080\n",
            "INFO: Using proxy 116.58.226.219:8080\n",
            "INFO: Using proxy 116.58.226.219:8080\n",
            "INFO: Using proxy 116.58.226.219:8080\n",
            "INFO: Using proxy 116.58.226.219:8080\n",
            "INFO: Using proxy 116.58.226.219:8080\n",
            "INFO: Using proxy 116.58.226.219:8080\n",
            "INFO: Scraping tweets from https://twitter.com/i/search/timeline?f=tweets&vertical=default&include_available_features=1&include_entities=1&reset_error_state=false&src=typd&max_position=TWEET-1212183206751088642-1212370859576430593&q=askrbc%20since%3A2020-01-01%20until%3A2020-01-02&l=english\n",
            "INFO: Using proxy 5.9.218.108:1080\n",
            "INFO: Scraping tweets from https://twitter.com/i/search/timeline?f=tweets&vertical=default&include_available_features=1&include_entities=1&reset_error_state=false&src=typd&max_position=thGAVUV0VFVBaEwL2RiI3F0iEWgsC00fK3mtMhEjUAFQAlAFUAFQAA&q=askrbc%20since%3A2020-01-01%20until%3A2020-01-02&l=english\n",
            "INFO: Using proxy 179.108.169.71:8080\n",
            "INFO: Twitter returned : 'has_more_items' \n",
            "INFO: Got 6 tweets for askrbc%20since%3A2020-01-01%20until%3A2020-01-02.\n",
            "INFO: Got 6 tweets (6 new).\n",
            "INFO: Scraping tweets from https://twitter.com/i/search/timeline?f=tweets&vertical=default&include_available_features=1&include_entities=1&reset_error_state=false&src=typd&max_position=TWEET-1215110445423644673-1215356860146094082&q=askrbc%20since%3A2020-01-09%20until%3A2020-01-10&l=english\n",
            "INFO: Using proxy 5.9.218.108:1080\n",
            "INFO: Scraping tweets from https://twitter.com/i/search/timeline?f=tweets&vertical=default&include_available_features=1&include_entities=1&reset_error_state=false&src=typd&max_position=TWEET-1213622606408101888-1213954347681361920&q=askrbc%20since%3A2020-01-05%20until%3A2020-01-06&l=english\n",
            "INFO: Using proxy 5.9.218.108:1080\n",
            "INFO: Scraping tweets from https://twitter.com/i/search/timeline?f=tweets&vertical=default&include_available_features=1&include_entities=1&reset_error_state=false&src=typd&max_position=TWEET-1215444139329884161-1215752892134633474&q=askrbc%20since%3A2020-01-10%20until%3A2020-01-11&l=english\n",
            "INFO: Using proxy 5.9.218.108:1080\n",
            "INFO: Scraping tweets from https://twitter.com/i/search/timeline?f=tweets&vertical=default&include_available_features=1&include_entities=1&reset_error_state=false&src=typd&max_position=TWEET-1213253598513106947-1213586880496844800&q=askrbc%20since%3A2020-01-04%20until%3A2020-01-05&l=english\n",
            "INFO: Scraping tweets from https://twitter.com/i/search/timeline?f=tweets&vertical=default&include_available_features=1&include_entities=1&reset_error_state=false&src=typd&max_position=TWEET-1213158940290224128-1213243141534486530&q=askrbc%20since%3A2020-01-03%20until%3A2020-01-04&l=english\n",
            "INFO: Using proxy 5.9.218.108:1080\n",
            "INFO: Using proxy 5.9.218.108:1080\n",
            "INFO: Scraping tweets from https://twitter.com/i/search/timeline?f=tweets&vertical=default&include_available_features=1&include_entities=1&reset_error_state=false&src=typd&max_position=TWEET-1214266506114142208-1214334463532027904&q=askrbc%20since%3A2020-01-06%20until%3A2020-01-07&l=english\n",
            "INFO: Using proxy 5.9.218.108:1080\n",
            "INFO: Scraping tweets from https://twitter.com/i/search/timeline?f=tweets&vertical=default&include_available_features=1&include_entities=1&reset_error_state=false&src=typd&max_position=TWEET-1214790406715498496-1215050232599212032&q=askrbc%20since%3A2020-01-08%20until%3A2020-01-09&l=english\n",
            "INFO: Scraping tweets from https://twitter.com/i/search/timeline?f=tweets&vertical=default&include_available_features=1&include_entities=1&reset_error_state=false&src=typd&max_position=TWEET-1212800877091860480-1212878603991633920&q=askrbc%20since%3A2020-01-02%20until%3A2020-01-03&l=english\n",
            "INFO: Using proxy 5.9.218.108:1080\n",
            "INFO: Using proxy 5.9.218.108:1080\n",
            "INFO: Scraping tweets from https://twitter.com/i/search/timeline?f=tweets&vertical=default&include_available_features=1&include_entities=1&reset_error_state=false&src=typd&max_position=TWEET-1214350944948895744-1214685389409017857&q=askrbc%20since%3A2020-01-07%20until%3A2020-01-08&l=english\n",
            "INFO: Using proxy 5.9.218.108:1080\n",
            "INFO: Scraping tweets from https://twitter.com/i/search/timeline?f=tweets&vertical=default&include_available_features=1&include_entities=1&reset_error_state=false&src=typd&max_position=thGAVUV0VFVBaCwL7l46D43CEWhMC8xYCo6N0hEjUAFQAlAFUAFQAA&q=askrbc%20since%3A2020-01-09%20until%3A2020-01-10&l=english\n",
            "INFO: Using proxy 179.108.169.71:8080\n",
            "INFO: Scraping tweets from https://twitter.com/i/search/timeline?f=tweets&vertical=default&include_available_features=1&include_entities=1&reset_error_state=false&src=typd&max_position=thGAVUV0VFVBaAwLWlk9XT1yEWgMC1sYTD6tghEjUAFQAlAFUAFQAA&q=askrbc%20since%3A2020-01-05%20until%3A2020-01-06&l=english\n",
            "INFO: Using proxy 179.108.169.71:8080\n",
            "INFO: Twitter returned : 'has_more_items' \n",
            "INFO: Got 22 tweets for askrbc%20since%3A2020-01-09%20until%3A2020-01-10.\n",
            "INFO: Got 28 tweets (22 new).\n",
            "INFO: Twitter returned : 'has_more_items' \n",
            "INFO: Got 22 tweets for askrbc%20since%3A2020-01-05%20until%3A2020-01-06.\n",
            "INFO: Got 50 tweets (22 new).\n",
            "INFO: Scraping tweets from https://twitter.com/i/search/timeline?f=tweets&vertical=default&include_available_features=1&include_entities=1&reset_error_state=false&src=typd&max_position=thGAVUV0VFVBaCwLSRqYCQ3iEWhMC15Yy0nN8hEjUAFQAlAFUAFQAA&q=askrbc%20since%3A2020-01-10%20until%3A2020-01-11&l=english\n",
            "INFO: Using proxy 179.108.169.71:8080\n",
            "INFO: Twitter returned : 'has_more_items' \n",
            "INFO: Got 28 tweets for askrbc%20since%3A2020-01-10%20until%3A2020-01-11.\n",
            "INFO: Got 78 tweets (28 new).\n",
            "INFO: Scraping tweets from https://twitter.com/i/search/timeline?f=tweets&vertical=default&include_available_features=1&include_entities=1&reset_error_state=false&src=typd&max_position=thGAVUV0VFVBaGwLSdiO6r1iEWgIC2wdC1w9chEjUAFQAlAFUAFQAA&q=askrbc%20since%3A2020-01-04%20until%3A2020-01-05&l=english\n",
            "INFO: Using proxy 179.108.169.71:8080\n",
            "INFO: Scraping tweets from https://twitter.com/i/search/timeline?f=tweets&vertical=default&include_available_features=1&include_entities=1&reset_error_state=false&src=typd&max_position=thGAVUV0VFVBaAwLTBneiA1iEWhMC81bGNp9YhEjUAFQAlAFUAFQAA&q=askrbc%20since%3A2020-01-03%20until%3A2020-01-04&l=english\n",
            "INFO: Using proxy 179.108.169.71:8080\n",
            "INFO: Scraping tweets from https://twitter.com/i/search/timeline?f=tweets&vertical=default&include_available_features=1&include_entities=1&reset_error_state=false&src=typd&max_position=thGAVUV0VFVBaAwL3lmv7d1CEWgMC-qcGqgdUhEjUAFQAlAFUAFQAA&q=askrbc%20since%3A2020-01-02%20until%3A2020-01-03&l=english\n",
            "INFO: Using proxy 179.108.169.71:8080\n",
            "INFO: Scraping tweets from https://twitter.com/i/search/timeline?f=tweets&vertical=default&include_available_features=1&include_entities=1&reset_error_state=false&src=typd&max_position=thGAVUV0VFVBaAwLT5hb342SEWgMC6ldiwl9ohEjUAFQAlAFUAFQAA&q=askrbc%20since%3A2020-01-06%20until%3A2020-01-07&l=english\n",
            "INFO: Using proxy 179.108.169.71:8080\n",
            "INFO: Scraping tweets from https://twitter.com/i/search/timeline?f=tweets&vertical=default&include_available_features=1&include_entities=1&reset_error_state=false&src=typd&max_position=thGAVUV0VFVBaAgKPNidzm2yEWgMCnpffv3NwhEjUAFQAlAFUAFQAA&q=askrbc%20since%3A2020-01-08%20until%3A2020-01-09&l=english\n",
            "INFO: Using proxy 179.108.169.71:8080\n",
            "INFO: Scraping tweets from https://twitter.com/i/search/timeline?f=tweets&vertical=default&include_available_features=1&include_entities=1&reset_error_state=false&src=typd&max_position=thGAVUV0VFVBaAgLalhPCe2iEWgoCn2aH7ttshEjUAFQAlAFUAFQAA&q=askrbc%20since%3A2020-01-07%20until%3A2020-01-08&l=english\n",
            "INFO: Using proxy 179.108.169.71:8080\n",
            "INFO: Twitter returned : 'has_more_items' \n",
            "INFO: Got 32 tweets for askrbc%20since%3A2020-01-04%20until%3A2020-01-05.\n",
            "INFO: Got 110 tweets (32 new).\n",
            "INFO: Twitter returned : 'has_more_items' \n",
            "INFO: Got 32 tweets for askrbc%20since%3A2020-01-08%20until%3A2020-01-09.\n",
            "INFO: Got 142 tweets (32 new).\n",
            "INFO: Scraping tweets from https://twitter.com/i/search/timeline?f=tweets&vertical=default&include_available_features=1&include_entities=1&reset_error_state=false&src=typd&max_position=thGAVUV0VFVBaMwLTt56_w0yEWgMC-qcGqgdUhEjUAFQAlAFUAFQAA&q=askrbc%20since%3A2020-01-02%20until%3A2020-01-03&l=english\n",
            "INFO: Using proxy 190.18.207.58:53281\n",
            "INFO: Scraping tweets from https://twitter.com/i/search/timeline?f=tweets&vertical=default&include_available_features=1&include_entities=1&reset_error_state=false&src=typd&max_position=thGAVUV0VFVBaEwL614tiY2iEWgoCn2aH7ttshEjUAFQAlAFUAFQAA&q=askrbc%20since%3A2020-01-07%20until%3A2020-01-08&l=english\n",
            "INFO: Using proxy 190.18.207.58:53281\n",
            "INFO: Twitter returned : 'has_more_items' \n",
            "INFO: Got 37 tweets for askrbc%20since%3A2020-01-02%20until%3A2020-01-03.\n",
            "INFO: Got 179 tweets (37 new).\n",
            "INFO: Twitter returned : 'has_more_items' \n",
            "INFO: Scraping tweets from https://twitter.com/i/search/timeline?f=tweets&vertical=default&include_available_features=1&include_entities=1&reset_error_state=false&src=typd&max_position=thGAVUV0VFVBaAwKPtuubC2SEWgMC6ldiwl9ohEjUAFQAlAFUAFQAA&q=askrbc%20since%3A2020-01-06%20until%3A2020-01-07&l=english\n",
            "INFO: Using proxy 190.18.207.58:53281\n",
            "INFO: Got 46 tweets for askrbc%20since%3A2020-01-07%20until%3A2020-01-08.\n",
            "INFO: Got 225 tweets (46 new).\n",
            "INFO: Scraping tweets from https://twitter.com/i/search/timeline?f=tweets&vertical=default&include_available_features=1&include_entities=1&reset_error_state=false&src=typd&max_position=thGAVUV0VFVBaAwLTly7OQ1SEWhMC81bGNp9YhEjUAFQAlAFUAFQAA&q=askrbc%20since%3A2020-01-03%20until%3A2020-01-04&l=english\n",
            "INFO: Using proxy 190.18.207.58:53281\n",
            "INFO: Scraping tweets from https://twitter.com/i/search/timeline?f=tweets&vertical=default&include_available_features=1&include_entities=1&reset_error_state=false&src=typd&max_position=thGAVUV0VFVBaMwL6N0ISF1SEWhMC81bGNp9YhEjUAFQAlAFUAFQAA&q=askrbc%20since%3A2020-01-03%20until%3A2020-01-04&l=english\n",
            "INFO: Using proxy 181.211.245.74:61343\n",
            "INFO: Scraping tweets from https://twitter.com/i/search/timeline?f=tweets&vertical=default&include_available_features=1&include_entities=1&reset_error_state=false&src=typd&max_position=thGAVUV0VFVBaIgKfN3a-B2SEWgMC6ldiwl9ohEjUAFQAlAFUAFQAA&q=askrbc%20since%3A2020-01-06%20until%3A2020-01-07&l=english\n",
            "INFO: Using proxy 181.211.245.74:61343\n",
            "INFO: Twitter returned : 'has_more_items' \n",
            "INFO: Got 61 tweets for askrbc%20since%3A2020-01-03%20until%3A2020-01-04.\n",
            "INFO: Got 286 tweets (61 new).\n",
            "INFO: Twitter returned : 'has_more_items' \n",
            "INFO: Got 69 tweets for askrbc%20since%3A2020-01-06%20until%3A2020-01-07.\n",
            "INFO: Got 355 tweets (69 new).\n"
          ],
          "name": "stderr"
        }
      ]
    },
    {
      "cell_type": "code",
      "metadata": {
        "id": "plbwzhyHY-wt",
        "colab_type": "code",
        "colab": {}
      },
      "source": [
        "tweet_links, tweet_content, indivdual_tweet_keyword, keyword_analysis = unpack[0], unpack[1], unpack[2], unpack[3]"
      ],
      "execution_count": 0,
      "outputs": []
    }
  ]
}